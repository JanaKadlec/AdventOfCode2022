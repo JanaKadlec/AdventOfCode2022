{
 "cells": [
  {
   "cell_type": "markdown",
   "metadata": {},
   "source": [
    "--- Day 8: Treetop Tree House ---\n",
    "\n",
    "The expedition comes across a peculiar patch of tall trees all planted carefully in a grid. The Elves explain that a previous expedition planted these trees as a reforestation effort. Now, they're curious if this would be a good location for a tree house.\n",
    "\n",
    "First, determine whether there is enough tree cover here to keep a tree house hidden. To do this, you need to count the number of trees that are visible from outside the grid when looking directly along a row or column.\n",
    "\n",
    "The Elves have already launched a quadcopter to generate a map with the height of each tree (your puzzle input). For example:\n",
    "\n",
    "30373\n",
    "\n",
    "25512\n",
    "\n",
    "65332\n",
    "\n",
    "33549\n",
    "\n",
    "35390\n",
    "\n",
    "\n",
    "Each tree is represented as a single digit whose value is its height, where 0 is the shortest and 9 is the tallest.\n",
    "\n",
    "A tree is visible if all of the other trees between it and an edge of the grid are shorter than it. Only consider trees in the same row or column; that is, only look up, down, left, or right from any given tree.\n",
    "\n",
    "All of the trees around the edge of the grid are visible - since they are already on the edge, there are no trees to block the view. In this example, that only leaves the interior nine trees to consider:\n",
    "\n",
    "The top-left 5 is visible from the left and top. (It isn't visible from the right or bottom since other trees of height 5 are in the way.)\n",
    "The top-middle 5 is visible from the top and right.\n",
    "The top-right 1 is not visible from any direction; for it to be visible, there would need to only be trees of height 0 between it and an edge.\n",
    "The left-middle 5 is visible, but only from the right.\n",
    "The center 3 is not visible from any direction; for it to be visible, there would need to be only trees of at most height 2 between it and an edge.\n",
    "The right-middle 3 is visible from the right.\n",
    "In the bottom row, the middle 5 is visible, but the 3 and 4 are not.\n",
    "With 16 trees visible on the edge and another 5 visible in the interior, a total of 21 trees are visible in this arrangement.\n",
    "\n",
    "Consider your map; how many trees are visible from outside the grid?"
   ]
  },
  {
   "cell_type": "code",
   "execution_count": 1,
   "metadata": {},
   "outputs": [],
   "source": [
    "with open('C:\\\\Users\\\\janak\\\\Documents\\\\08_PythonGit\\\\AdventOfCode2022\\\\Vstupy\\\\AOC_202208.txt', encoding='utf-8') as vstup:\n",
    "    radky = vstup.readlines()\n",
    "\n",
    "radky=[cast.strip('\\n') for cast in radky]\n",
    "\n",
    "\n"
   ]
  },
  {
   "cell_type": "code",
   "execution_count": 2,
   "metadata": {},
   "outputs": [],
   "source": [
    "# number of rows\n",
    "n = len(radky)\n",
    "# number of columns\n",
    "m = len(radky[0])\n"
   ]
  },
  {
   "cell_type": "code",
   "execution_count": 3,
   "metadata": {},
   "outputs": [],
   "source": [
    "pocet = 0\n",
    "\n",
    "# i for rows\n",
    "for i in range(1,n-2):\n",
    "# j for columns\n",
    "    for j in range(1,m-2):\n",
    "        pole = radky[i][j] \n",
    "\n",
    "        zleva = True\n",
    "        for k in range(1,j-1):\n",
    "            l_kus = radky[i][k]\n",
    "            if int(l_kus)>int(pole):\n",
    "                zleva = False\n",
    "                break\n",
    "\n",
    "        zprava = True\n",
    "        for l in range(m-2, j+1,-1):\n",
    "            p_kus = radky[i][l]\n",
    "            if int(p_kus)>int(pole):\n",
    "                zprava = False\n",
    "                break\n",
    "\n",
    "        shora = True\n",
    "        for o in range(i-1,1):\n",
    "            u_kus = radky[o][j]\n",
    "            if int(u_kus)>int(pole):\n",
    "                shora = False\n",
    "                break\n",
    "        \n",
    "        zdola = True,\n",
    "        for p in range(n-2, i+1, -1):\n",
    "            d_kus = radky[o][p]\n",
    "            if int(d_kus)>int(pole):\n",
    "                zdola = False\n",
    "                break\n",
    "        \n",
    "        if zleva == True or zprava ==True or shora ==True or zdola == True:\n",
    "            pocet = pocet +1 \n",
    "        \n",
    "    \n",
    "    \n",
    "\n",
    "\n"
   ]
  },
  {
   "cell_type": "code",
   "execution_count": 4,
   "metadata": {},
   "outputs": [],
   "source": [
    "pocet = pocet + m + n -4"
   ]
  },
  {
   "cell_type": "code",
   "execution_count": 5,
   "metadata": {},
   "outputs": [
    {
     "data": {
      "text/plain": [
       "9374"
      ]
     },
     "execution_count": 5,
     "metadata": {},
     "output_type": "execute_result"
    }
   ],
   "source": [
    "pocet"
   ]
  }
 ],
 "metadata": {
  "kernelspec": {
   "display_name": "Python 3.9.10 64-bit",
   "language": "python",
   "name": "python3"
  },
  "language_info": {
   "codemirror_mode": {
    "name": "ipython",
    "version": 3
   },
   "file_extension": ".py",
   "mimetype": "text/x-python",
   "name": "python",
   "nbconvert_exporter": "python",
   "pygments_lexer": "ipython3",
   "version": "3.9.10"
  },
  "orig_nbformat": 4,
  "vscode": {
   "interpreter": {
    "hash": "11938c6bc6919ae2720b4d5011047913343b08a43b18698fd82dedb0d4417594"
   }
  }
 },
 "nbformat": 4,
 "nbformat_minor": 2
}
